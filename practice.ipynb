{
 "cells": [
  {
   "cell_type": "code",
   "execution_count": null,
   "id": "c20827bc-0bb9-4a28-ac97-752313129633",
   "metadata": {},
   "outputs": [],
   "source": [
    "Q1 = \"Welcome to EU!\""
   ]
  },
  {
   "cell_type": "code",
   "execution_count": null,
   "id": "1e5de817-3f58-486e-a763-98775e4f85f9",
   "metadata": {},
   "outputs": [],
   "source": [
    "Q2 = 1+1"
   ]
  }
 ],
 "metadata": {
  "kernelspec": {
   "display_name": "",
   "name": ""
  },
  "language_info": {
   "name": ""
  }
 },
 "nbformat": 4,
 "nbformat_minor": 5
}
